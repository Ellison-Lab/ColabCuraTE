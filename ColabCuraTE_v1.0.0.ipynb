{
  "cells": [
    {
      "cell_type": "markdown",
      "source": [
        "# _**ColabCuraTE**_ v1.0.0\n",
        "_An easy-to-use pipeline for manual curation of transposable elements_"
      ],
      "metadata": {
        "id": "DoxbQZ-NRLnL"
      }
    },
    {
      "cell_type": "markdown",
      "metadata": {
        "id": "3DuW6p-KjGfr"
      },
      "source": [
        "# **INTRODUCTION**\n",
        "#### This colab notebook is a pipeline for the manual curation of transposable elements (TEs).\n",
        "\n",
        "#### Requirements:\n",
        "*   A genome assembly file (_fasta_ format) from an organism of interest.\n",
        "*   A repeat library file (_fasta_ format) from the same organism, generated using a TE discovery and annotation tool (e.g., the `XXX-families.fa` file output from [_RepeatModeler2_](https://pubmed.ncbi.nlm.nih.gov/32300014/)).\n",
        "*   The name of a specific TE family from the repeat library to curate\n",
        "\n",
        "#### Output:\n",
        "*   An improved, full length consensus sequence (_fasta_ format) for the TE family of interest.\n",
        "*   An updated _stockholm_ formatted (`.stk`) seed alignment file which can be deposited in the [_Dfam_ TE database](https://www.dfam.org/).\n",
        "\n",
        "#### Pipeline steps:\n",
        "1.   [Load input files and install software packages.](#scrollTo=a9ac66j1bFmc)\n",
        "2.   [Select a TE family of interest and extract, align, and extend individual copies](#scrollTo=7oqZir_3UZC6)\n",
        "      - Extract a TE consensus sequence from the repeat library.\n",
        "      - Identify all of its copies in the genome.\n",
        "      - Align TE copies to create a _seed alignment_.\n",
        "      - Perform initial extension of TE copy boundaries\n",
        "3.   [Align and inspect extended copies](#scrollTo=-RPOn2J0UZDP)\n",
        "      - Create a new _seed alignment_ from extended TE copies\n",
        "      - Visualize the alignment to identify TE boundaries\n",
        "      - Iteratively extend TE copies until boundaries are identified\n",
        "4.   [Precise identification of TE boundaries](#scrollTo=xFIVEWHycIy1)\n",
        "      - Search for Target Site Duplications (TSDs) to help identify exact TE boundaries\n",
        "      - Trim the alignment down to the TE boundaries\n",
        "      - Create a new, extended, consensus.\n",
        "5.   [Generation of final output files](#scrollTo=a9b2pa29qpJG)\n",
        "      - Reclassify the final consensus sequence.\n",
        "      - Create a final _stockholm_ formatted (`.stk`) seed alignment ready for _Dfam_ accessioning.\n",
        "6.   [Analysis of consensus sequence](#scrollTo=JbUG2xtik5Pq)\n",
        "      - Compare the original and updated consensus sequences\n",
        "      - Analysis of updated consensus sequence with [_TE-Aid_](https://github.com/clemgoub/TE-Aid)\n",
        "7.   [Appendix](#scrollTo=5cgS2J8ZNa1D)\n",
        "      - Running _RepeatModeler2_ and _RepeatMasker_ on [_Galaxy_](https://usegalaxy.org/)\n",
        "      - Creation of repeat landscape plots\n",
        "      - Generate interactive table of summary statistics for all TE families\n"
      ]
    },
    {
      "cell_type": "markdown",
      "metadata": {
        "id": "a9ac66j1bFmc"
      },
      "source": [
        "# **PART 1. LOAD FILES & INSTALL SOFTWARE PACKAGES**"
      ]
    },
    {
      "cell_type": "code",
      "execution_count": null,
      "metadata": {
        "id": "1xlcz_xsSvAI",
        "cellView": "form"
      },
      "outputs": [],
      "source": [
        "#@title 1.1) COPY FILES FROM GOOGLE DRIVE\n",
        "#@markdown _Run this cell to mount your google drive to this notebook. Follow the instructions in the popup windows to allow access._\n",
        "#@markdown #### Mounting your **Google Drive** is beneficial for two key reasons:\n",
        "#@markdown\n",
        "#@markdown 1. **More reliable uploads**: Transfer of large genome files directly from your local device can be interrupted, resulting in a truncated file. Uploading from Google Drive avoids this issue.\n",
        "#@markdown 2. **Automatic file saving**: Several steps save backup copies of important files to your Google Drive. These backups help prevent data loss if the Colab runtime times out after the step completes.\n",
        "#@markdown\n",
        "#@markdown\n",
        "\n",
        "#@markdown ### Required Google Drive File Structure\n",
        "#@markdown Before starting, please create the following folders inside your main `MyDrive` folder:\n",
        "#@markdown ```\n",
        "#@markdown MyDrive/TE_curation_files\n",
        "#@markdown MyDrive/TE_curation_files/genomes\n",
        "#@markdown MyDrive/TE_curation_files/repeat_libraries\n",
        "#@markdown MyDrive/TE_curation_files/stks\n",
        "#@markdown MyDrive/TE_curation_files/extended_alignments\n",
        "#@markdown MyDrive/TE_curation_files/curated_families\n",
        "#@markdown ```\n",
        "#@markdown\n",
        "#@markdown Place your **genome file** in:\n",
        "#@markdown `MyDrive/TE_curation_files/genomes/`\n",
        "#@markdown\n",
        "#@markdown Place your **repeat library file** in:\n",
        "#@markdown `MyDrive/TE_curation_files/repeat_libraries/`\n",
        "#@markdown\n",
        "#@markdown >_If you’ve previously run Step 2.2 (seed alignment), you can use the step below to load an autosaved `.stk` alignment file from: `MyDrive/TE_curation_files/stks`_\n",
        "\n",
        "#@markdown >_If you’ve previously run Step 3 (alignment extension), you can use the step below to load an autosaved `.fa` extended alignment file from: `MyDrive/TE_curation_files/extended_alignments`_\n",
        "\n",
        "#@markdown ### Your google drive file structure should now appear as below:\n",
        "#@markdown ```\n",
        "#@markdown MyDrive/\n",
        "#@markdown └── TE_curation_files/\n",
        "#@markdown     ├── genomes/\n",
        "#@markdown     │   └── your_genome.fasta\n",
        "#@markdown     ├── repeat_libraries/\n",
        "#@markdown     │   └── your_repeat_library.fasta\n",
        "#@markdown     ├── stks/\n",
        "#@markdown     │   └── your seed alignments will be autosaved here\n",
        "#@markdown     ├── extended_alignments/\n",
        "#@markdown     │   └── your extended alignments will be saved here\n",
        "#@markdown     └── curated_families/\n",
        "#@markdown         └── your final curated TE family files will be saved here\n",
        "#@markdown ```\n",
        "\n",
        "\n",
        "from google.colab import drive\n",
        "drive.mount('/content/drive')"
      ]
    },
    {
      "cell_type": "code",
      "execution_count": null,
      "metadata": {
        "cellView": "form",
        "id": "vbK3gmiyEVM8"
      },
      "outputs": [],
      "source": [
        "#@markdown ##### Run this cell to copy your files over from Google Drive\n",
        "#@markdown - Edit below to specify the file names of your genome and repeat library in your Google Drive folders.\n",
        "\n",
        "genome=\"genome_assembly.fasta\" #@param {type:\"string\"}\n",
        "repeat_library=\"XXX-families.fa\" #@param {type:\"string\"}\n",
        "#@markdown If you want to load a previously saved seed alignment from `MyDrive/TE_curation_files/stks`, enter the filename below, otherwise enter `None`.\n",
        "seed_alignment=\"None\" #@param {type:\"string\"}\n",
        "#@markdown If you want to load a previously saved extended alignment from `MyDrive/TE_curation_files/extended_alignments`, enter the filename below, otherwise enter `None`.\n",
        "extended_alignment=\"None\" #@param {type:\"string\"}\n",
        "\n",
        "!cp /content/drive/MyDrive/TE_curation_files/genomes/$genome .\n",
        "!cp /content/drive/MyDrive/TE_curation_files/repeat_libraries/$repeat_library .\n",
        "if seed_alignment != \"None\":\n",
        "    !cp /content/drive/MyDrive/TE_curation_files/stks/{seed_alignment} .\n",
        "if extended_alignment != \"None\":\n",
        "    !cp /content/drive/MyDrive/TE_curation_files/extended_alignments/{extended_alignment} ."
      ]
    },
    {
      "cell_type": "markdown",
      "source": [
        "### Please be aware of the following:\n",
        "- Your input files and any output files generated during this pipeline will be stored in the `/content` directory of this notebook. Expand the folder icon on the left side of the notebook to see the files/folders present in the `/content` directory for this current runtime.\n",
        "\n",
        "- All files in the `/content` directory of this notebook will be deleted when the runtime expires or is terminated, which occurs if the notebook is idle for ~90 minutes. We introduce several checkpoints below to back up important files but any file can be saved at any time. To save a file, expand the folder icon on the left side of the notebook, click the three dots that appear when you hover over the filename and select _Download_.\n",
        "\n",
        "- It may take some time for the `/contents` folder to automatically refresh and display newly created files. In this case, use the _Refresh_ icon to manually refresh the directory."
      ],
      "metadata": {
        "id": "Ir5suKOhpBxV"
      }
    },
    {
      "cell_type": "code",
      "execution_count": null,
      "metadata": {
        "id": "uFeQWDYs-Ubj",
        "cellView": "form"
      },
      "outputs": [],
      "source": [
        "#@title 1.2) INSTALL CONDACOLAB\n",
        "#@markdown Run this cell to install [`condacolab`](https://pypi.org/project/condacolab/). This will lead to a kernel restart, so don't be alarmed by the session crashing.\n",
        "!pip install -q condacolab\n",
        "import condacolab\n",
        "condacolab.install()"
      ]
    },
    {
      "cell_type": "code",
      "execution_count": null,
      "metadata": {
        "id": "vmmacwRGN0Ys",
        "cellView": "form"
      },
      "outputs": [],
      "source": [
        "#@title 1.3) INSTALL SOFTWARE DEPENDENCIES\n",
        "#@markdown _This installation will take a few minutes._\n",
        "!pip install poppler-utils==0.1.0\n",
        "!mamba install -y -qq -c conda-forge -c bioconda pdf2image=1.17.0 trimal=1.5.0 piler=0.1 repeatmodeler=2.0.5-0 repeatmasker=4.1.9 biopython=1.85 mafft=7.526 bedtools=2.31.1 emboss=6.6.0 blast=2.16.0 hmmer=3.4 bioconda::bioconductor-biostrings=2.74.0\n",
        "!cd /usr/local/bin && ln -s /usr/local/share/RepeatModeler/*.pm .\n",
        "!cd /usr/share/perl5 && ln -s /usr/local/share/RepeatModeler/*.pm .\n",
        "!git clone https://github.com/clemgoub/TE-Aid.git\n",
        "!cd TE-Aid && git checkout 18cccb82fd9ff543317983e374204923f6413c53 && cd >& /dev/null\n"
      ]
    },
    {
      "cell_type": "markdown",
      "source": [
        ">_NOTE: Colab notebooks run on a virtual machine in the cloud by connecting to a remote runtime. If the notebook sits idle for ~90 minutes, it will disconnect from the runtime. To start using the notebook again, run the code cells above to (re)install the software_"
      ],
      "metadata": {
        "id": "86jL5N0oj5Ul"
      }
    },
    {
      "cell_type": "markdown",
      "metadata": {
        "id": "7oqZir_3UZC6"
      },
      "source": [
        "# **PART 2. EXTRACT & EXTEND TE COPIES**"
      ]
    },
    {
      "cell_type": "markdown",
      "metadata": {
        "id": "hW7dY0qrUZDJ"
      },
      "source": [
        "TE _de novo_ prediction tools, such as _RepeatModeler2_, output all predicted TE consensus sequences combined in a single file (e.g. `XXX-families.fa`). The code below allows a single consensus sequence to be extracted from the combined `XXX-families.fa` file.\n",
        "\n",
        ">_For example, in our RepeatModeler2 run, the Copia TE family consensus sequence from *Drosophila melanogaster* was assigned the ID `rnd-3_family-103`_"
      ]
    },
    {
      "cell_type": "code",
      "execution_count": null,
      "metadata": {
        "id": "7wgpk9E0UZDK",
        "cellView": "form"
      },
      "outputs": [],
      "source": [
        "#@title 2.1) EXTRACT TE CONSENSUS SEQUENCE FROM THE REPEAT LIBRARY\n",
        "\n",
        "from Bio import SeqIO\n",
        "\n",
        "#@markdown - Edit this to specify the ID of the TE consensus sequence to extract from the repeat library file (_e.g._ `rnd-3_family-103`).\n",
        "seqID=\"rnd-3_family-103\" #@param {type:\"string\"}\n",
        "#@markdown - Specify the name of the input repeat library FASTA file that contains the consensus sequences (_e.g._ `dmel-families.fa`).\n",
        "infile=\"dmel-families.fa\" #@param {type:\"string\"}\n",
        "#@markdown - Specify the output FASTA filename (_e.g._ `copia_con.fa`).\n",
        "outfile=\"copia_con.fa\" #@param {type:\"string\"}\n",
        "\n",
        "fh=open(outfile,\"w\")\n",
        "for record in SeqIO.parse(infile,\"fasta\"):\n",
        "  rnd=record.id\n",
        "  if \"#\" in rnd:\n",
        "    rnd,fam = rnd.split(\"#\")\n",
        "  if rnd == seqID:\n",
        "    SeqIO.write(record,fh,\"fasta\")\n",
        "fh.close()\n",
        "print(\"Consensus sequence written to\",outfile)"
      ]
    },
    {
      "cell_type": "code",
      "execution_count": null,
      "metadata": {
        "id": "gRThJphGUZDK",
        "cellView": "form"
      },
      "outputs": [],
      "source": [
        "%%bash\n",
        "#@title 2.2) CREATE A NEW SEED ALIGNMENT USING _REPEATMASKER_\n",
        "#@markdown This will output a new seed alignment file (`*.stk`).\n",
        "\n",
        "#@markdown >#### Please note the following:\n",
        "#@markdown >- _RepeatMasker_ can take several hours to run on gigabase-sized genomes. If this step does not successfully complete in the notebook, an alternative strategy is to run _RepeatMasker_ on _Galaxy_ by following the instructions in **Step 7.6**.\n",
        "#@markdown >- The most efficient approach for large-scale curation efforts on the same genome is to run _RepeatMasker_ on _Galaxy_ using the full set of TE consensi generated by _RepeatModeler2_ (or similar software, see Appendix **Steps 7.1–7.2**). Once complete, use **Step 7.5** to extract individual seed alignments for each TE family. This allows you to skip **Step 2.2** here and proceed directly to **Step 2.3**.\n",
        "\n",
        "#@markdown - Edit below to specify the name of the FASTA file (from Step 2.1 above) containing your TE consensus sequence (_e.g._ `copia_con.fa`).\n",
        "TE_consensus=\"copia_con.fa\" #@param {type:\"string\"}\n",
        "#@markdown - Edit below to specify the name of the genome assembly fasta file (_e.g._ `dmel.fasta`).\n",
        "genome=\"dmel.fasta\" #@param {type:\"string\"}\n",
        "genome_out=$genome\".2bit\"\n",
        "genome_align=$genome\".align\"\n",
        "#@markdown - Edit below to specify the species name (_e.g._ _Drosophila melanogaster_).\n",
        "taxon=\"Drosophila melanogaster\" #@param {type:\"string\"}\n",
        "\n",
        "#@markdown >_NOTE: Here we use the `-qq` and `-nolow` RepeatMasker arguments to speed up the process so that it runs quickly. Excluding these options will increase accuracy._\n",
        "mkdir repeatmasker && cd repeatmasker\n",
        "ln -s ../$genome\n",
        "RepeatMasker -nolow -qq -frag 60000 -no_is -norna -a -e rmblast -lib ../$repeat_library $genome >& rm.log\n",
        "mv $genome_align /content\n",
        "cd ..\n",
        "faToTwoBit $genome $genome_out\n",
        "mkdir stks && cd stks\n",
        "taxon=${taxon// /_}\n",
        "generateSeedAlignments.pl -taxon $taxon -assemblyFile ../$genome_out ../$genome_align >generateSeedAlignments.log 2>&1\n",
        "filename=`ls -t *stk | head -1`\n",
        "rename=$taxon\"_\"$filename\n",
        "mv $filename $rename\n",
        "cp $rename /content && cd /content\n",
        "rm -r /content/stks\n",
        "echo \"Seed alignment written in Stockholm format to: $rename\"\n",
        "cp $rename /content/drive/MyDrive/TE_curation_files/stks/.\n",
        "echo \"Backup copy of the same file is saved in Google Drive in your /MyDrive/TE_curation_files/stks/ folder\"\n"
      ]
    },
    {
      "cell_type": "markdown",
      "source": [
        "---\n",
        "\n",
        "### **Checkpoint:** Seed Alignment Output (`.stk` file)\n",
        "\n",
        "Step 2.2 above can take **several hours** for large genomes. If you leave your computer to run (overnight, for example) the Colab session may time out due to inactivity after _RepeatMasker_ finishes. However, **Step 2.2** will **automatically save** your seed alignment `.stk` file to the `MyDrive/TE_curation_files/stks/` folder: thus, **you won’t lose any data**.\n",
        "\n",
        "If your session times out, follow the steps below:\n",
        "- Click the _Reconnect_ button on the top left to connect the notebook to a new runtime  \n",
        "- Rerun the **setup and installation cells** in Step 1.  \n",
        "- Enter the filename in Step 1.1 to copy your saved seed alignment `.stk` file from your Google Drive to your notebook  \n",
        "- Resume the pipeline by skipping to **Step 2.3** below\n",
        "\n",
        "---\n"
      ],
      "metadata": {
        "id": "2tdkCGPgLDn8"
      }
    },
    {
      "cell_type": "code",
      "execution_count": null,
      "metadata": {
        "cellView": "form",
        "id": "UfoSg99_EBBS"
      },
      "outputs": [],
      "source": [
        "#@title 2.3) SELECT SEED LENGTH CUTOFF\n",
        "\n",
        "from Bio import SeqIO\n",
        "import seaborn as sns\n",
        "import matplotlib.pyplot as plt\n",
        "\n",
        "#@markdown _Full length seed copies will be the most useful for generating the full length consensus sequence. Thus, one may want to exclude smaller seeds from the `.stk` file._\n",
        "\n",
        "#@markdown _The command below creates a histogram of seed lengths from the `.stk` file, which can be used to help select a length cutoff_\n",
        "\n",
        "#@markdown - Specify the name of the `.stk` file that contains the seed alignment generated in Step 2.2 (_e.g._ `Drosophila_melanogaster_rnd-3_family-103.stk`).\n",
        "infile=\"Drosophila_melanogaster_rnd-3_family-103.stk\" #@param {type:\"string\"}\n",
        "\n",
        "lengths = []\n",
        "for record in SeqIO.parse(infile, 'stockholm'):\n",
        "  bps = len(record.seq.replace(\"-\",\"\"))\n",
        "  lengths.append(bps)\n",
        "\n",
        "ax = sns.histplot(data=lengths)\n",
        "ax.set(xlabel='Sequence length (bp)')\n",
        "plt.show()"
      ]
    },
    {
      "cell_type": "code",
      "execution_count": null,
      "metadata": {
        "cellView": "form",
        "id": "-YLtlAEVIFT7"
      },
      "outputs": [],
      "source": [
        "#@title 2.4) FILTER SEED ALIGNMENT BY LENGTH\n",
        "\n",
        "from Bio import SeqIO\n",
        "\n",
        "#@markdown - Exclude sequences shorter than this length (_e.g._ `1500`). Set to `0` to select the `X` longest sequences where `X` = `max_sequences` below\n",
        "length_cutoff = 1500 #@param {type:\"integer\"}\n",
        "#@markdown - Maximum number of sequences to keep (_e.g._ `50`).\n",
        "max_sequences = 50 #@param {type:\"integer\"}\n",
        "#@markdown - Name of the _Stockholm_ file that contains the seed alignments (_e.g._ `Drosophila_melanogaster_rnd-3_family-103.stk`).\n",
        "infile=\"Drosophila_melanogaster_rnd-3_family-103.stk\" #@param {type:\"string\"}\n",
        "#@markdown - Output filename for new seed alignment (_e.g._ `Drosophila_melanogaster_rnd-3_family-103.filtered.stk`).\n",
        "outfile = \"Drosophila_melanogaster_rnd-3_family-103.filtered.stk\" #@param {type:\"string\"}\n",
        "\n",
        "count=0\n",
        "all=[]\n",
        "d={}\n",
        "s={}\n",
        "for rec in SeqIO.parse(infile, 'stockholm'):\n",
        "  bps = len(rec.seq.replace(\"-\",\"\"))\n",
        "  d[rec.id]=bps\n",
        "  s[rec.id]=rec\n",
        "\n",
        "ds=sorted(d.items(), key=lambda x:x[1], reverse=True)\n",
        "ds=dict(ds)\n",
        "for recID in ds:\n",
        "  if count < max_sequences and d[recID] >= length_cutoff:\n",
        "    all.append(s[recID])\n",
        "    count+=1\n",
        "\n",
        "out=open(outfile,\"w\")\n",
        "SeqIO.write(all,out,\"stockholm\")\n",
        "out.close()\n",
        "\n",
        "print(\"Retained\",count,\"sequences in\",outfile)"
      ]
    },
    {
      "cell_type": "code",
      "execution_count": null,
      "metadata": {
        "cellView": "form",
        "id": "1BzCBd6ePBVQ"
      },
      "outputs": [],
      "source": [
        "#@title 2.5) EXTEND TE SEED COPIES\n",
        "#@markdown _Add flanking genome sequence to both ends of each TE copy in the length-filtered seed alignment. Extending TE copies ensures that the final consensus will represent the full length TE_\n",
        "from Bio import AlignIO, SeqIO\n",
        "\n",
        "#@markdown - Specify the amount of nucleotide flanking sequence to add to each end (_e.g._ left and right flanks) of each seed. As a starting point, we suggest adding 200 nucleotides to each flank.\n",
        "left_flank = 200 #@param {type:\"integer\"}\n",
        "right_flank = 200 #@param {type:\"integer\"}\n",
        "#@markdown - Name of genome assembly fasta file (_e.g._ `dmel.fasta`).\n",
        "genome = \"dmel.fasta\" #@param {type:\"string\"}\n",
        "#@markdown - Name of the filtered seed alignment file from _Step 2.4_ (_e.g._ `Drosophila_melanogaster_rnd-3_family-103.filtered.stk`).\n",
        "infile=\"Drosophila_melanogaster_rnd-3_family-103.filtered.stk\" #@param {type:\"string\"}\n",
        "#@markdown - Output seed filename in FASTA format with flanking sequence added (_e.g._ `copia_elements.fa`).\n",
        "outfile=\"copia_elements.fa\" #@param {type:\"string\"}\n",
        "\n",
        "d={}\n",
        "\n",
        "for record in SeqIO.parse(genome,\"fasta\"):\n",
        "  d[record.id] = record\n",
        "\n",
        "fh=open(outfile,\"w\")\n",
        "a = AlignIO.read(infile,\"stockholm\")\n",
        "for record in a:\n",
        "  RC = 0\n",
        "  seqstr = record.seq.replace(\"-\",\"\")\n",
        "  contig,coords = record.id.split(\":\")\n",
        "  start,stop = coords.split(\"-\")\n",
        "  start = int(start)\n",
        "  stop = int(stop)\n",
        "  if start > stop:\n",
        "    (start,stop) = (stop,start) #switch values\n",
        "    start= start - right_flank - 1 # assume RepeatMasker coordinates are 1-based\n",
        "    stop = stop  + left_flank\n",
        "    RC = 1\n",
        "  else:\n",
        "    start= start - left_flank - 1 # assume RepeatMasker coordinates are 1-based\n",
        "    stop = stop  + right_flank\n",
        "  refRecord = d[contig]\n",
        "  if start<0:\n",
        "    start=0\n",
        "  if stop>len(refRecord):\n",
        "    stop=len(refRecord)\n",
        "  if RC == 1:\n",
        "    element = str(refRecord[start:stop].reverse_complement().seq.upper())\n",
        "    outID = contig + \":\" + str(stop) + \"-\" + str(start)\n",
        "  else:\n",
        "    element = str(refRecord[start:stop].seq.upper())\n",
        "    outID = contig + \":\" + str(start) + \"-\" + str(stop)\n",
        "  fh.write(\">\" + outID + \"\\n\" + element + \"\\n\")\n",
        "#  SeqIO.write(element,fh,\"fasta\")\n",
        "fh.close()\n",
        "#print(\"Extended left flank by\",left_flank + \"bp\",\"and right flank by\",right_flank + \"bp\")\n",
        "print(\"Extended left flank by\",left_flank, \"bp\",\"and right flank by\",right_flank, \"bp\")\n",
        "print(\"Output saved in\",outfile)\n"
      ]
    },
    {
      "cell_type": "markdown",
      "metadata": {
        "id": "-RPOn2J0UZDP"
      },
      "source": [
        "# **PART 3. ALIGN AND EXTEND TE COPIES**"
      ]
    },
    {
      "cell_type": "markdown",
      "metadata": {
        "id": "qa-_sjz1C7FX"
      },
      "source": [
        "_The TE seeds need to be extended until they include the entire length of the TE. The TE edges (i.e. the beginning and end of the TE) can be inferred by aligning the TE seeds and then plotting the conservation of each alignment column._\n",
        "\n",
        "_Starting from the left side of the plot, the point where the conservation score jumps from ~25% to above ~50% (closer to 100% for active TE families) marks the beginning of the TE. The conservation score should remain relatively high for the full length of the TE, although short decreases are possible. The end of the TE is denoted by the point where the conservation score drops back down to ~25%._\n",
        "\n",
        ">_Note: if the conservation score is high across the entire alignment, this means that the seeds have not been extended far enough and additional extension is needed to reach the beginning and/or end of the TE (see Step 3.3)._"
      ]
    },
    {
      "cell_type": "code",
      "execution_count": null,
      "metadata": {
        "cellView": "form",
        "id": "kZsmjvK5fa3R"
      },
      "outputs": [],
      "source": [
        "#@title 3.1) GENERATE SEED ALIGNMENT FROM EXTENDED COPIES\n",
        "\n",
        "#@markdown - Filename for the extended seed sequences from _Step 2.5_ above (_e.g._ `copia_elements.fa`).\n",
        "infile = \"copia_elements.fa\" #@param {type:\"string\"}\n",
        "#@markdown - Name of the alignment output file (_e.g._ `copia_elements_aligned.fa`).\n",
        "outfile = \"copia_elements_aligned.fa\" #@param {type:\"string\"}\n",
        "\n",
        "#@markdown >_Note: This can take 30 minutes or more depending on the amount of flanking sequence added to the seeds._\n",
        "\n",
        "\n",
        "!mafft --localpair --maxiterate 1000 --preservecase $infile > $outfile"
      ]
    },
    {
      "cell_type": "code",
      "execution_count": null,
      "metadata": {
        "cellView": "form",
        "id": "DglBFAcgnDM4"
      },
      "outputs": [],
      "source": [
        "#@title 3.2) VISUALIZE ALIGNMENT CONSERVATION\n",
        "#@markdown This cell plots the conservation score of each column of the seed alignment. A conservation score close to 1.0 reflects high sequence similarity at that position, indicating that those columns are part of the TE. A low conservation score (~0.25 or lower) corresponds to genomic regions that are no longer homologous (_i.e._ not part of the TE).\n",
        "#@markdown\n",
        "#@markdown When the seed sequences have been extended enough to include the full length TE, the plot will show a contiguous region of highly conserved sequence flanked by regions of low sequence conservation on both ends.\n",
        "#@markdown\n",
        "#@markdown If the plot shows highly conserved sequence on one or both edges, additional extension is needed. In this case follow _Step 3.3_ below.\n",
        "\n",
        "#@markdown - Name of the alignment file from _Step 3.1_ (_e.g._ `copia_elements_aligned.fa`).\n",
        "infile = \"copia_elements_aligned.fa\" #@param {type:\"string\"}\n",
        "\n",
        "from Bio import AlignIO\n",
        "from collections import Counter\n",
        "import seaborn as sns\n",
        "import pandas as pd\n",
        "import numpy as np\n",
        "\n",
        "align = AlignIO.read(infile,\"fasta\")\n",
        "alen=len(align[0])\n",
        "slen=len(align[:,0])\n",
        "cons=[]\n",
        "data=[]\n",
        "for i in range(alen):\n",
        "  col = align[:,i]\n",
        "  counts = Counter(col)\n",
        "  if \"-\" in counts:\n",
        "    if counts[\"-\"]/slen >= 0.5:\n",
        "      continue\n",
        "    else:\n",
        "      del counts[\"-\"]\n",
        "  order=sorted(counts.items(), key=lambda x:x[1],reverse=True)\n",
        "  score=order[0][1]/len(col)\n",
        "  data.append([i,score])\n",
        "\n",
        "d=pd.DataFrame(data=data,columns=[\"Alignment Column\",\"Conservation\"])\n",
        "d['rolling_avg'] = d['Conservation'].rolling(window=10).mean()\n",
        "ax=sns.lineplot(data=d,x=\"Alignment Column\",y=\"rolling_avg\")\n",
        "ax.set(xlabel=\"Alignment Column\",ylabel=\"Conservation\")\n",
        "ax.set_ylim(0, 1.05);"
      ]
    },
    {
      "cell_type": "markdown",
      "metadata": {
        "id": "pdexQoY73Y89"
      },
      "source": [
        "### 3.3) OPTIONAL: ADDITIONAL EXTENSION OF SEED SEQUENCES\n",
        "\n",
        "_Follow the steps below if the conservation plot suggests that the TE seeds need to be extended further._\n",
        "\n",
        "1. Return to _Step 2.5_ and increase one or both flanks, depending on what the conservation plot shows. We suggest doubling the increment of flanking sequence you are adding each time (_i.e._ 200, 400, 800, 1600, ...) If the flank of one end of the TE becomes apparent in the plot, it is only necessary to extend the other flank.\n",
        "2. Rerun _Steps 3.1 & 3.2_\n",
        "3. Repeat until the conservation plot shows flanks of low conservation on both ends\n",
        "\n",
        "_Note: It is not necessary to modify the filenames for each iteration of extension._"
      ]
    },
    {
      "cell_type": "markdown",
      "source": [
        "---\n",
        "\n",
        "### **Checkpoint:** Back Up Your Alignment File After Extension Is Complete\n",
        "\n",
        "You’ve now completed the **iterative extension and alignment process**. Before continuing to **Part 4**, we recommend that you **back up** your final extended alignment file (`.fa`) to `MyDrive/TE_curation_files/extended_alignments` by running the cell below. This will prevent you from having to repeat these steps if your session times out due to inactivity or if you plan to pause and resume the curation workflow later.\n",
        "\n",
        "To resume later:  \n",
        "1. Rerun the **setup and installation** steps in a new Colab session  \n",
        "2. **Copy** your saved extended alignment file from Google Drive in Step 1.1  \n",
        "3. Continue with **Part 4** of the pipeline"
      ],
      "metadata": {
        "id": "SJpncO1zU6gA"
      }
    },
    {
      "cell_type": "code",
      "source": [
        "final_alignment=\"copia_elements_aligned.fa\" #@param {type:\"string\"}\n",
        "!cp $final_alignment /content/drive/MyDrive/TE_curation_files/extended_alignments/."
      ],
      "metadata": {
        "cellView": "form",
        "id": "kVc-c7EKiIpe"
      },
      "execution_count": null,
      "outputs": []
    },
    {
      "cell_type": "markdown",
      "source": [
        "---"
      ],
      "metadata": {
        "id": "yTpwVH0NiJAd"
      }
    },
    {
      "cell_type": "markdown",
      "metadata": {
        "id": "xFIVEWHycIy1"
      },
      "source": [
        "# **PART 4. PRECISE IDENTIFICATION OF TE BOUNDARIES**"
      ]
    },
    {
      "cell_type": "code",
      "execution_count": null,
      "metadata": {
        "cellView": "form",
        "id": "UuFPI1z8olic"
      },
      "outputs": [],
      "source": [
        "#@title 4.1) VISUALIZE SEED ALIGNMENT TO IDENTIFY THE EDGES OF THE TE\n",
        "\n",
        "#@markdown This cell generates an interactive alignment visualization tool.\n",
        "#@markdown After running the cell, use the settings dropdown menu to adjust the following parameters:\n",
        "#@markdown ```\n",
        "#@markdown color scheme: clustalx_dna\n",
        "#@markdown row height: 8\n",
        "#@markdown column width: 8\n",
        "#@markdown ```\n",
        "#@markdown >_Note: hovering your mouse over the column will interactively identify its position in the alignment, which is necessary for specifying the TE edges in the following steps._\n",
        "\n",
        "#@markdown - Specify the name of the seed alignment file from _Step 3.1_ (_e.g._ `copia_elements_aligned.fa`).\n",
        "alignment = \"copia_elements_aligned.fa\" #@param {type:\"string\"}\n",
        "\n",
        "import IPython\n",
        "from IPython.display import display, Javascript\n",
        "from IPython.core.display import display, HTML\n",
        "\n",
        "# paste file path below\n",
        "drive_file_path = '/content/'+alignment\n",
        "\n",
        "drive_file = open(drive_file_path)\n",
        "file_content = drive_file.read()\n",
        "\n",
        "\n",
        "# convert the Python variable 'file_content' into a JavaScript variable 'fastaContent',\n",
        "# create a Blob of MIME type 'application/fasta' with the file data,\n",
        "# and generate a URL for the Blob and make it globally accessible\n",
        "html_code = f'''\n",
        "<html>\n",
        "  <head>\n",
        "    <script>\n",
        "        var fastaContent = {repr(file_content)};\n",
        "        var blob = new Blob([fastaContent], {{ type: 'application/fasta' }});\n",
        "        var blob_url = window.URL.createObjectURL(blob);\n",
        "      </script>\n",
        "  </head>\n",
        "  <body>\n",
        "  </body>\n",
        "</html>\n",
        "'''\n",
        "\n",
        "\n",
        "#run MSAviewer script using model with file handle attribute that points to blob url variable\n",
        "html_code2 = '''\n",
        "<html>\n",
        "  <head>\n",
        "    <script>\n",
        "      window.global = window\n",
        "    </script>\n",
        "    <script\n",
        "      crossorigin\n",
        "      src=\"https://unpkg.com/react@17/umd/react.development.js\"\n",
        "    ></script>\n",
        "    <script\n",
        "      crossorigin\n",
        "      src=\"https://unpkg.com/react-dom@17/umd/react-dom.development.js\"\n",
        "    ></script>\n",
        "    <script\n",
        "      crossorigin\n",
        "      src=\"https://unpkg.com/react-msaview@2.1.5/bundle/index.js\"\n",
        "    ></script>\n",
        "  </head>\n",
        "  <body>\n",
        "    <div id=\"root\" />\n",
        "    <script>\n",
        "\n",
        "      const { MSAView, MSAModel } = window.ReactMSAView\n",
        "      const model = MSAModel.create({\n",
        "        id: `${Math.random()}`,\n",
        "        type: \"MsaView\",\n",
        "        msaFilehandle: {uri: blob_url}\n",
        "        });\n",
        "\n",
        "      model.setWidth(1800)\n",
        "\n",
        "      ReactDOM.render(\n",
        "        React.createElement(MSAView, { model }),\n",
        "        document.getElementById('root'),\n",
        "      )\n",
        "\n",
        "    </script>\n",
        "  </body>\n",
        "</html>\n",
        "'''\n",
        "\n",
        "#runs html code from strings\n",
        "display(HTML(html_code))\n",
        "display(HTML(html_code2))"
      ]
    },
    {
      "cell_type": "markdown",
      "source": [
        "To find the TE edges, scroll through the alignment to the point where the sequences become clearly alignable. This point represents the beginning of the TE.\n",
        ">_Note: the TE edges may or may not be clearly defined, depending on the properties of the TE family being investigated. The goal here is to identify a range of alignment columns that contain the TE boundary, for both the left and right edges of the TE. Use a lenient range to be sure that the true TE edge is included within each span. The Target Site Duplication step below will help refine the edges. If the alignment does not show ambiguous/unalignable sequence on both ends, further extension of seed sequences is needed. Return to Step 3.3 in this case._\n",
        "\n",
        "Record the column numbers that span the beginning of the TE, where the sequences start to align. The first column in the range should lie within the unaligned sequence >= 20 nucleotides before the beginning of the TE. The second column should lie 5-10 nucleotides after the beginning of the TE. This range will be used for the `left_start` and `left_end` parameters in the trimming step below.\n",
        "\n",
        "Continue scrolling through the aligned sequences until reaching the end of the TE, where the sequences are no longer clearly aligned to one another. Record the column numbers that span the end of the TE. The first column in the range should lie within the aligned sequence, 5-10 nucleotides before the point where the sequences are no longer aligned. The second column should lie >=20 nucleotides after the end of the TE. This range will be used for the `right_start` and `right_end` parameters in the trimming step below.\n",
        "\n"
      ],
      "metadata": {
        "id": "fsolwxtCPRI-"
      }
    },
    {
      "cell_type": "code",
      "execution_count": null,
      "metadata": {
        "cellView": "form",
        "id": "8fXQZ59SkFDn"
      },
      "outputs": [],
      "source": [
        "#@title 4.2) SEARCH FOR TARGET SITE DUPLICATIONS (TSDs)\n",
        "#@markdown Running this cell removes the internal portion of the seed alignment to allow visualization (in _Step 4.3_, below) of just the left and right TE edges, separated by `XXX`\n",
        "#@markdown\n",
        "#@markdown - Specify the range of columns for the left edge of the TE, as explained in _Step 4.1_ above.\n",
        "left_start = 1594 #@param {type:\"integer\"}\n",
        "left_end = 1604 #@param {type:\"integer\"}\n",
        "#@markdown - Specify the range of columns for the right edge of the TE, as explained in _Step 4.1_ above.\n",
        "right_start = 7570 #@param {type:\"integer\"}\n",
        "right_end = 7580 #@param {type:\"integer\"}\n",
        "#@markdown - Specify the filename of the seed alignment from _Step 3.1_ (_e.g._ `copia_elements_aligned.fa`).\n",
        "alignFile = \"copia_elements_aligned.fa\" #@param {type:\"string\"}\n",
        "#@markdown - Specify an output filename for the internally-trimmed alignment that includes only the ranges specified above (_e.g._ `alignment_ends.fa`).\n",
        "outfile=\"alignment_ends.fa\" #@param {type:\"string\"}\n",
        "\n",
        "from Bio import AlignIO\n",
        "# user gives a start/end range of columns for both the beginning and end of the TE\n",
        "#left_start=371\n",
        "#left_end=377\n",
        "#right_start=5182\n",
        "#right_end=5197\n",
        "\n",
        "# convert to bed-style numbering\n",
        "left_start-=1\n",
        "right_start-=1\n",
        "\n",
        "#alignFile=\"LINE_CR1_elements_aligned.fa\"\n",
        "#outfile=\"alignment_ends.fa\"\n",
        "\n",
        "TSD_flank = 20 # number of extra flanking columns to include to search for TSD\n",
        "internal_flank = 5 # number of extra columns to include internal to TE\n",
        "spacer=\"XXX\" # left and right ends of TE will be separated by this spacer sequence\n",
        "\n",
        "leftside_trim_start = left_start-TSD_flank\n",
        "leftside_trim_stop  = left_end+internal_flank\n",
        "rightside_trim_start= right_start-internal_flank\n",
        "rightside_trim_stop = right_end+TSD_flank\n",
        "\n",
        "align=AlignIO.read(alignFile,\"fasta\")\n",
        "left =align[:,leftside_trim_start:leftside_trim_stop]\n",
        "right=align[:,rightside_trim_start:rightside_trim_stop]\n",
        "\n",
        "out=open(\"temp.fa\",\"w\")\n",
        "for record in align:\n",
        "  out.write(\">\" + record.id + \"\\n\")\n",
        "  out.write(spacer + \"\\n\")\n",
        "out.close()\n",
        "\n",
        "center=AlignIO.read(\"temp.fa\",\"fasta\")\n",
        "out2=open(outfile,\"w\")\n",
        "newalign = left + center + right\n",
        "AlignIO.write(newalign,out2,\"fasta\")\n",
        "out2.close()\n",
        "print(\"Internally trimmed alignment written to:\",outfile)"
      ]
    },
    {
      "cell_type": "code",
      "execution_count": null,
      "metadata": {
        "cellView": "form",
        "id": "Qn7PIXlkOdPu"
      },
      "outputs": [],
      "source": [
        "#@title 4.3) SEARCH FOR TARGET SITE DUPLICATIONS (TSDs) & IDENTIFY EXACT TE EDGES\n",
        "\n",
        "#@markdown This cell visualizes the internally trimmed alignment from _Step 4.2_, which makes it easier to identify TSDs\n",
        "#@markdown\n",
        "#@markdown Some TEs are flanked by a constant-length TSD as a result of their integration mechanism.\n",
        "#@markdown Examine the alignment to search for repeated sequences that appear just before, and just after, the TE edges. In the example below, a 5bp TSD is shown for a TE represented by the string of `T's`.\n",
        "#@markdown >_Note: Target site duplications directly flank the beginning and end of a TE but are NOT part of the TE._\n",
        "#@markdown\n",
        "#@markdown ```\n",
        "#@markdown ...AGCGATTTTTTTTTTTTTTTTTTTTAGCGA...\n",
        "#@markdown ...CGTTATTTTTTTTTTTTTTTTTTTTCGTTA...\n",
        "#@markdown ...ATCAGTTTTTTTTTTTTTTTTTTTTATCAG...\n",
        "#@markdown ...GGCATTTTTTTTTTTTTTTTTTTTTGGCAT...\n",
        "#@markdown ```\n",
        "\n",
        "#@markdown >_Most TSDs range from 2 to 20 basepairs in size. The sequence that is duplicated will be unique for each TE copy (i.e. alignment row) but the duplication length should be consistant across rows. Note that some TE families do not create TSDs at all._\n",
        "\n",
        "#@markdown If you find a TSD, use its location to help define the exact columns where the TE starts and ends.\n",
        "#@markdown If you cannot find a TSD, base your estimate on the first and last columns of the TE that show unambiguous alignment and good conservation.\n",
        "\n",
        "#@markdown - Name of the internally-trimmed alignment file from _Step 4.2_ (_e.g._ `alignment_ends.fa`).\n",
        "alignment = \"alignment_ends.fa\" #@param {type:\"string\"}\n",
        "\n",
        "import IPython\n",
        "from IPython.display import display, Javascript\n",
        "from IPython.core.display import display, HTML\n",
        "\n",
        "# paste file path below\n",
        "drive_file_path = '/content/'+alignment\n",
        "\n",
        "drive_file = open(drive_file_path)\n",
        "file_content = drive_file.read()\n",
        "\n",
        "\n",
        "# convert the Python variable 'file_content' into a JavaScript variable 'fastaContent',\n",
        "# create a Blob of MIME type 'application/fasta' with the file data,\n",
        "# and generate a URL for the Blob and make it globally accessible\n",
        "html_code = f'''\n",
        "<html>\n",
        "  <head>\n",
        "    <script>\n",
        "        var fastaContent = {repr(file_content)};\n",
        "        var blob = new Blob([fastaContent], {{ type: 'application/fasta' }});\n",
        "        var blob_url = window.URL.createObjectURL(blob);\n",
        "      </script>\n",
        "  </head>\n",
        "  <body>\n",
        "  </body>\n",
        "</html>\n",
        "'''\n",
        "\n",
        "\n",
        "#run MSAviewer script using model with file handle attribute that points to blob url variable\n",
        "html_code2 = '''\n",
        "<html>\n",
        "  <head>\n",
        "    <script>\n",
        "      window.global = window\n",
        "    </script>\n",
        "    <script\n",
        "      crossorigin\n",
        "      src=\"https://unpkg.com/react@17/umd/react.development.js\"\n",
        "    ></script>\n",
        "    <script\n",
        "      crossorigin\n",
        "      src=\"https://unpkg.com/react-dom@17/umd/react-dom.development.js\"\n",
        "    ></script>\n",
        "    <script\n",
        "      crossorigin\n",
        "      src=\"https://unpkg.com/react-msaview@2.1.5/bundle/index.js\"\n",
        "    ></script>\n",
        "  </head>\n",
        "  <body>\n",
        "    <div id=\"root\" />\n",
        "    <script>\n",
        "\n",
        "      const { MSAView, MSAModel } = window.ReactMSAView\n",
        "      const model = MSAModel.create({\n",
        "        id: `${Math.random()}`,\n",
        "        type: \"MsaView\",\n",
        "        msaFilehandle: {uri: blob_url}\n",
        "        });\n",
        "\n",
        "      model.setWidth(1800)\n",
        "\n",
        "      ReactDOM.render(\n",
        "        React.createElement(MSAView, { model }),\n",
        "        document.getElementById('root'),\n",
        "      )\n",
        "\n",
        "    </script>\n",
        "  </body>\n",
        "</html>\n",
        "'''\n",
        "\n",
        "#runs html code from strings\n",
        "display(HTML(html_code))\n",
        "display(HTML(html_code2))"
      ]
    },
    {
      "cell_type": "code",
      "execution_count": null,
      "metadata": {
        "cellView": "form",
        "id": "eZ3Hm5o4rMFD"
      },
      "outputs": [],
      "source": [
        "#@title 4.4) FINAL SEED ALIGNMENT TRIM\n",
        "#@markdown Provide the numbers for the exact start and end columns that encompass the complete TE in the seed alignment.\n",
        "#@markdown >_NOTE: Column numbers should be from the internally-trimmed (i.e. XXX-containing) alignment visualized in Step 4.3._\n",
        "\n",
        "#@markdown - Enter the column where the TE starts\n",
        "beg = 26 #@param {type:\"integer\"}\n",
        "#@markdown - Enter the column where the TE ends\n",
        "end = 50 #@param {type:\"integer\"}\n",
        "#@markdown - Filename for the final trimmed alignment\n",
        "outfile = \"final_trimmed.fasta\" #@param {type:\"string\"}\n",
        "\n",
        "beg-=1\n",
        "leftsidelen  = leftside_trim_stop  - leftside_trim_start\n",
        "rightsidelen  = rightside_trim_stop - rightside_trim_start\n",
        "overhang = (rightsidelen + leftsidelen + len(spacer)) - end\n",
        "\n",
        "final_start = leftside_trim_start + beg\n",
        "final_end   = rightside_trim_stop - overhang\n",
        "\n",
        "print(final_start,final_end)\n",
        "outf=open(outfile,\"w\")\n",
        "AlignIO.write(align[:,final_start:final_end],outf,\"fasta\")\n",
        "outf.close()"
      ]
    },
    {
      "cell_type": "code",
      "execution_count": null,
      "metadata": {
        "cellView": "form",
        "id": "X-yaVK9wUZDR"
      },
      "outputs": [],
      "source": [
        "#@title 4.5) CLEAN SEED ALIGNMENT TO REMOVE GAPPY REGIONS\n",
        "#@markdown Individual TE copies can acquire sequence insertions that result in gaps being added to all other sequences in the alignment.\n",
        "#@markdown This step will remove inserted sequences that are present in less than 50% of the TE copies in the seed alignment.\n",
        "\n",
        "#@markdown - Filename of the trimmed alignment from _Step 4.4_ above (_e.g._ `final_trimmed.fasta`).\n",
        "infile = \"final_trimmed.fasta\" #@param {type:\"string\"}\n",
        "#@markdown - Output filename for the cleaned alignment (_e.g._ `final_trimmed_cleaned.fasta`).\n",
        "outfile = \"final_trimmed_cleaned.fasta\" #@param {type:\"string\"}\n",
        "\n",
        "!trimal -in $infile -out $outfile -gt 0.49\n",
        "!echo Cleaned alignment written to $outfile"
      ]
    },
    {
      "cell_type": "markdown",
      "metadata": {
        "id": "a9b2pa29qpJG"
      },
      "source": [
        "# **PART 5. GENERATE FINAL FILES**"
      ]
    },
    {
      "cell_type": "code",
      "execution_count": null,
      "metadata": {
        "cellView": "form",
        "id": "7hYK9UrAiTVQ"
      },
      "outputs": [],
      "source": [
        "#@title 5.1) FINAL CONSENSUS SEQUENCE\n",
        "#@markdown This step creates a single consensus sequence in FASTA format from the cleaned seed alignment.\n",
        "#@markdown - Filename of the cleaned alignment from _Step 4.5_ (_e.g._ `final_trimmed_cleaned.fasta`).\n",
        "infile = \"final_trimmed_cleaned.fasta\" #@param {type:\"string\"}\n",
        "#@markdown - Output filename for the consensus sequence (_e.g._ `copia_consensus.fasta`).\n",
        "outfile = \"copia_consensus.fasta\" #@param {type:\"string\"}\n",
        "\n",
        "!piler -cons $infile -out $outfile -label final_consensus"
      ]
    },
    {
      "cell_type": "code",
      "execution_count": null,
      "metadata": {
        "id": "yDRXhYLnk5QG",
        "cellView": "form"
      },
      "outputs": [],
      "source": [
        "#@title 5.2) RECLASSIFY FINAL CONSENSUS SEQUENCE\n",
        "#@markdown Improving/refining the TE consensus sequence may improve our ability to classify it.\n",
        "#@markdown This step runs the program `RepeatClassifier` to check if the classification of the consensus sequence changes.\n",
        "#@markdown The output will be provided as a `.classified` file (_e.g._ `copia_consensus.fasta.classified`).\n",
        "\n",
        "#@markdown This output file is in FASTA format and contains the same DNA sequence as in the input file, however the ID is modified to reflect the classification and the sequence is reverse complemented if it matches known TE sequences on the minus strand.\n",
        "\n",
        "#@markdown - Input filename for the updated consensus sequence file from _Step 5.1_ (_e.g._ `copia_consensus.fasta`).\n",
        "consensus_file = \"copia_consensus.fasta\" #@param {type:\"string\"}\n",
        "updated_file   = consensus_file + \".classified\"\n",
        "\n",
        "!RepeatClassifier -consensi $consensus_file\n",
        "!echo ======================================\n",
        "!echo Classification complete. Results:\n",
        "!grep \">\" $consensus_file\\.classified\n",
        "\n",
        "from Bio import SeqIO\n",
        "original = SeqIO.read(consensus_file,\"fasta\")\n",
        "updated  = SeqIO.read(updated_file,\"fasta\")\n",
        "o_str = str(original.seq)\n",
        "u_str = str(updated.seq)\n",
        "u_rc  = str(updated.seq.reverse_complement())\n",
        "\n",
        "if o_str == u_str:\n",
        "  print(\"\\n\\nIMPORTANT: RepeatClassifier detected that your consensus sequence is in the correct orientation and it was not reverse-complemented.\")\n",
        "elif o_str == u_rc:\n",
        "  print(\"\\n\\nIMPORTANT: RepeatClassifier detected that your consensus sequence is in the reverse orientation and has therefore reverse-complemented it.\")\n",
        "  print(\"The reclassified and reverse complemented version of your consensus sequence is in the file '\" + updated_file + \"'.\")\n",
        "\n"
      ]
    },
    {
      "cell_type": "code",
      "execution_count": null,
      "metadata": {
        "cellView": "form",
        "id": "Fthn6SzZv0hs"
      },
      "outputs": [],
      "source": [
        "#@title 5.3) FINAL FILES: SEED ALIGNMENT (STK) AND CONSENSUS (FASTA)\n",
        "#@markdown This cell will save your trimmed seed alignment, along with metadata describing your TE, in the Stockholm format.\n",
        "#@markdown The consensus sequence from _Step 5.2_ will also be renamed to reflect the family name specified below.\n",
        "#@markdown These two files can be deposited in the DFAM database.\n",
        "\n",
        "from Bio import AlignIO\n",
        "from Bio import SeqIO\n",
        "import os\n",
        "# these need to be input by user\n",
        "#@markdown - TE family name in _RepBase_ format: `Superfamily-Number_genusSpecies` (_e.g._ `Copia-1_dMel`).\n",
        "family_name = \"Copia-1_dMel\" #@param {type:\"string\"}\n",
        "#@markdown - Short description of the TE (_e.g._ `LTR retrotransposon with 5 bp TSD`).\n",
        "description = \"LTR retrotransposon with 5 bp TSD\" #@param {type:\"string\"}\n",
        "#@markdown - Replace `Doe J` below with your Lastname and First Initial(s)\n",
        "authors = \"Doe J\" #@param {type:\"string\"}\n",
        "#@markdown - TE classification in [DFAM format](https://dfam.org/classification/tree) (_e.g._ `Interspersed_Repeat;Transposable_Element;Class_I_Retrotransposition;Retrotransposon;Long_Terminal_Repeat_Element;Ty1-Copia`).\n",
        "classification = \"Interspersed_Repeat;Transposable_Element;Class_I_Retrotransposition;Retrotransposon;Long_Terminal_Repeat_Element;Ty1-Copia\" #@param {type:\"string\"}\n",
        "#@markdown - Genus of TE host (_e.g._ _Drosophila_).\n",
        "genus = \"Drosophila\" #@param {type:\"string\"}\n",
        "#@markdown - Species of TE host (_e.g._ _melanogaster_).\n",
        "species = \"melanogaster\" #@param {type:\"string\"}\n",
        "#@markdown - Genome assembly accession/version (_e.g._ `dm6`).\n",
        "assembly = \"dm6\" #@param {type:\"string\"}\n",
        "#@markdown - Final trimmed alignment output from _Step 4.5_ (_e.g._ `final_trimmed_cleaned.fasta`).\n",
        "trimmed_alignment = \"final_trimmed_cleaned.fasta\" #@param {type:\"string\"}\n",
        "#@markdown - Classified consensus from _Step 5.2_ (_e.g._ `copia_consensus.fasta.classified`).\n",
        "consensus = \"copia_consensus.fasta.classified\" #@param {type:\"string\"}\n",
        "\n",
        "outfile = family_name + \".stk\"\n",
        "outfile2= family_name + \".fasta\"\n",
        "\n",
        "align = AlignIO.read(trimmed_alignment,\"fasta\")\n",
        "num_sp = len(align)\n",
        "seed_source = \"Curated\"\n",
        "out=open(outfile,\"w\")\n",
        "out.write(\"# STOCKHOLM 1.0\\n\")\n",
        "out.write(\"#=GF ID\\t\"+family_name+\"\\n\")\n",
        "out.write(\"#=GF DE\\t\"+description+\"\\n\")\n",
        "out.write(\"#=GF AU\\t\"+authors+\"\\n\")\n",
        "out.write(\"#=GF SE\\tCurated\\n\")\n",
        "out.write(\"#=GF TP\\t\"+classification+\"\\n\")\n",
        "out.write(\"#=GF OC\\t\"+genus+\"\\n\")\n",
        "out.write(\"#=GF OC\\t\"+species+\"\\n\")\n",
        "out.write(\"#=GF SQ\\t\"+str(num_sp)+\"\\n\")\n",
        "\n",
        "\n",
        "for record in align:\n",
        "  out.write(assembly + \":\" + record.id + \"\\t\" + str(record.seq) + \"\\n\")\n",
        "out.write(\"//\\n\")\n",
        "out.close()\n",
        "\n",
        "s = SeqIO.read(consensus,\"fasta\")\n",
        "out = open(outfile2,\"w\")\n",
        "out.write(\">\" + family_name + \"\\n\")\n",
        "out.write(str(s.seq) + \"\\n\")\n",
        "out.close()\n",
        "\n",
        "print(\"Final annotated seed alignment written to:\",outfile)\n",
        "print(\"Final renamed consensus sequence written to:\",outfile2)\n",
        "print(\"Both files have been copied to MyDrive/TE_curation_files/curated_families\")\n",
        "command1=\"cp \" + outfile + \" /content/drive/MyDrive/TE_curation_files/curated_families/\"\n",
        "command2=\"cp \" + outfile2 + \" /content/drive/MyDrive/TE_curation_files/curated_families/\"\n",
        "os.system(command1);\n",
        "os.system(command2);"
      ]
    },
    {
      "cell_type": "markdown",
      "metadata": {
        "id": "JbUG2xtik5Pq"
      },
      "source": [
        "# **PART 6. TE SEQUENCE ANALYSIS**"
      ]
    },
    {
      "cell_type": "code",
      "execution_count": null,
      "metadata": {
        "id": "tysiwH9pkmr6",
        "cellView": "form"
      },
      "outputs": [],
      "source": [
        "#@title 6.1) COMPARE THE ORIGINAL AND UPDATED CONSENSUS SEQUENCES\n",
        "#@markdown A dotplot shows where two sequences align.\n",
        "#@markdown The amount by which the updated consensus was extended can be inferred based on where the original and updated consensus sequences align to each other.\n",
        "\n",
        "#@markdown - Filename of the original consensus sequence from _Step 2.1_ (_e.g._ `copia_con.fa`).\n",
        "original_consensus = \"copia_con.fa\" #@param {type:\"string\"}\n",
        "#@markdown - Filename of the final consensus sequence from _Step 5.3_ (_e.g._ `Copia-1_dMel.fasta`).\n",
        "updated_consensus = \"Copia-1_dMel.fasta\" #@param {type:\"string\"}\n",
        "#@markdown - Sequence similarity window size (as a default we recommend setting this to `10`).\n",
        "window_size = 10 #@param {type:\"integer\"}\n",
        "#@markdown - Enter `True` below if _RepeatClassifier_ reverse-complemented the consensus sequence in Step 5.2 above. Otherwise leave as `False`. If set to `True`, the dotplot will display the updated consensus sequence in its original orientation, prior to running _RepeatClassifier_.\n",
        "reverse_complemented = \"False\" #@param {type:\"string\"}\n",
        "#!dotmatcher -windowsize $window_size -threshold 50 -graph png $original_consensus $updated_consensus\n",
        "!dotpath -word $window_size -graph png $original_consensus -sreverse2 $reverse_complemented $updated_consensus\n",
        "\n",
        "from IPython.display import Image\n",
        "Image('dotpath.1.png')"
      ]
    },
    {
      "cell_type": "code",
      "execution_count": null,
      "metadata": {
        "cellView": "form",
        "id": "hF-hG23QHpSC"
      },
      "outputs": [],
      "source": [
        "#@title 6.2) ANALYSIS OF CONSENSUS SEQUENCE WITH TE-AID\n",
        "\n",
        "#@markdown [TE-AID](https://github.com/clemgoub/TE-Aid) produces four plots:\n",
        "#@markdown 1. (top left)  Each horizontal line represents a single TE copy/fragment. The plot shows which part of the consensus sequence is covered by each copy and the sequence identity between them.\n",
        "#@markdown 2. (top right) Genomic coverage of the consensus: TEs whose copies are frequently truncated will show differences in coverage across the consensus\n",
        "#@markdown 3. (bottom left) Dotplot comparing the consensus to itself. This plot is useful for identifying structural features such as Long Terminal Repeats (LTRs) or Terminal Inverted Repeats (TIRs)\n",
        "#@markdown 4. (bottom right) Structural and coding features including: TIR and LTR suggestions, open reading frames (ORFs) and TE protein hit annotations.\n",
        "\n",
        "#@markdown - Filename of the final consensus sequence from _Step 5.3_ (_e.g._ `Copia-1_dMel.fasta`).\n",
        "final_consensus = \"Copia-1_dMel.fasta\" #@param {type:\"string\"}\n",
        "final_consensus_out=final_consensus+\".c2g.pdf\"\n",
        "#@markdown - Filename for the genome assembly (_e.g._ `dmel.fasta`).\n",
        "genome = \"dmel.fasta\" #@param {type:\"string\"}\n",
        "\n",
        "\n",
        "!TE-Aid/TE-Aid -q $final_consensus -g $genome\n",
        "\n",
        "from pdf2image import convert_from_path\n",
        "pdf=final_consensus_out\n",
        "images = convert_from_path(pdf)\n",
        "images[0]"
      ]
    },
    {
      "cell_type": "markdown",
      "metadata": {
        "id": "1zfTawxjyWn3"
      },
      "source": [
        "# **6.3) FINISHED - DOWNLOAD FINAL FILES**\n",
        "\n",
        "#### You are finished curating this TE family.\n",
        "- Make sure your final files (_e.g._ `Copia-1_dMel.stk` and `Copia-1_dMel.fasta`) are present in your Google Drive in the folder `MyDrive/TE_curation_files/curated_families`\n",
        "- Download a copy of this notebook for future reference: `File -> Download -> Download .ipynb`\n",
        "- Rename the file so that it contains both the `seqID` from _Step 2.1_ and the `familyName` from _Step 5.3_.\n",
        "- Download and rename the TE-Aid results PDF for future reference (`final_consensus.c2g.pdf`)"
      ]
    },
    {
      "cell_type": "markdown",
      "metadata": {
        "id": "5cgS2J8ZNa1D"
      },
      "source": [
        "# **PART 7. APPENDIX**\n",
        "Below are instructions for:\n",
        "1. Using the Galaxy server to run _RepeatModeler2_\n",
        "2. Using the Galaxy server to run _RepeatMasker_\n",
        "3. Creation of a repeat landscape plot\n",
        "4. Creation of an interactive repeat library summary table\n",
        "5. Alternative _RepeatMasker_ approach for large-scale curation efforts\n",
        "6. Alternative _RepeatMasker_ approach for extremely large genomes\n",
        "\n",
        ">_If you do not already have a repeat library for your genome assembly and/or a TE family of interest for manual curation, you can follow Steps 7.1 - 7.4 to generate a de novo repeat library for your genome assembly and select a TE family of interest for manual curation._\n",
        "\n",
        ">_If you are curating many TE families from the same genome, it is more time-efficient to use the approach detailed in Step 7.5_\n",
        "\n",
        ">_If the RepeatMasker step exceeds the allowable runtime in the notebook, you can use Galaxy instead, which allows a longer runtime, as described in Step 7.6_"
      ]
    },
    {
      "cell_type": "markdown",
      "source": [
        "### 7.1) Running **RepeatModeler** on the Galaxy Server\n",
        "_ColabCuraTE_ relies on a pre-existing **repeat library** as input, typically generated by _de novo_ TE discovery tools such as **RepeatModeler2**. Running such tools on a whole-genome assembly is extremely computationally intensive and thus not feasible within the Google Colab environment. Below we provide details on how to use the **Galaxy web server** as a complementary resource to run _RepeatModeler2_ for generating a repeat library.\n",
        "\n",
        "\n",
        "We recommend running _**RepeatModeler2**_ on the [Galaxy Europe server](https://usegalaxy.eu), which allows for longer runtimes than other Galaxy servers.\n",
        "#### Steps to Run _RepeatModeler2_ on Galaxy:\n",
        "1. **Go to:** [https://usegalaxy.eu](https://usegalaxy.eu)\n",
        "2. **Create an account** or log in (required to submit jobs and track progress).\n",
        "3. Upload your genome FASTA file:\n",
        "    - Click the upload icon (top left).\n",
        "4. In the Galaxy Tools panel, search for **\"RepeatModeler\"** and select it.\n",
        "5. Set the parameters:\n",
        "    - **Input Genome**: Select your uploaded FASTA file.\n",
        "    - Leave other settings as default unless you have specific options.\n",
        "6. Click **Run Tool** and wait for the job to complete (runtime may take several days depending on genome size). You’ll be able to monitor progress in the history panel (right side).\n",
        "7. Once complete, download the **RepeatModeler repeat library** file (usually named `RepeatModeler on data 1: consensus sequences`) for use as an input file in the _ColabCuraTE_ pipeline."
      ],
      "metadata": {
        "id": "inGp0MjvUg1T"
      }
    },
    {
      "cell_type": "markdown",
      "source": [
        "### 7.2) Running **RepeatMasker** on the Galaxy Server\n",
        "Running RepeatMasker on large genomes or with large repeat libraries (e.g. a full RepeatModeler output) can exceed the runtime limits of this notebook. Instead, we recommend running RepeatMasker on the Galaxy Europe server: [https://usegalaxy.eu](https://usegalaxy.eu), which supports longer jobs and large datasets.\n",
        "#### Follow These Steps:\n",
        "1. **Sign in** to your account at [https://usegalaxy.eu](https://usegalaxy.eu). If you don’t have one, you’ll need to create one (it’s free).\n",
        "2. **Upload your input files**:\n",
        "    - A FASTA file of your organism’s genome.\n",
        "    - A FASTA file of your repeat library (e.g., the file output by RepeatModeler in Step 7.1).\n",
        "    - Use the **Upload Data** button (top left) and select the files from your computer. Upload time will vary based on file size.\n",
        "3. After the files finish uploading, search for **RepeatMasker** in the **Tools** panel (top left), and click the tool when it appears.\n",
        "4. Set the parameters as follows:\n",
        "    - **Genomic DNA**: Select your uploaded genome FASTA file.\n",
        "    - **Repeat library source**: Choose `Custom library of repeats`.\n",
        "    - **Custom library of repeats**: Select the repeat library file you uploaded.\n",
        "    - **Advanced options → Output alignments file**: Set this to `Yes` to generate the seed alignment file.\n",
        "    - Leave other settings as default unless you have specific options.\n",
        "    - (Optional) Under **Email notification**, you can choose to be notified when the job completes.\n",
        "5. Click **Run Tool** to start the job. Note: This may take several hours or longer depending on your genome and repeat library size.\n",
        "6. When the job finishes, your output files will appear in the **History** panel (right side). The file you need is labeled:#@markdown\n",
        "    > `RepeatMasker alignment on data X and data Y`\n",
        "7. Follow the instructions below to upload this file to the current Google Colab environment.\n"
      ],
      "metadata": {
        "id": "5bEtarMVU5U0"
      }
    },
    {
      "cell_type": "code",
      "source": [
        "#@markdown ### 7.2 cont'd) Upload **RepeatMasker** alignment file from the Galaxy Server\n",
        "\n",
        "#@markdown If you processed data on [Galaxy Europe](https://usegalaxy.eu), you can download your output files directly into this Colab notebook:\n",
        "#@markdown\n",
        "#@markdown 1. In Galaxy, go to the **History panel** on the right.\n",
        "#@markdown 2. Click the **History options icon** (three horizontal lines) → click **\"Share & Manage Access\"**.\n",
        "#@markdown 3. Click **\"Make History accessible\"** and save.\n",
        "#@markdown 4. To upload the RepeatMasker alignment file, click its filename in the Galaxy server to expand it (_i.e._ `Repeatmasker alignment on data X and data Y`), and then click the **\"Share link\"** button that looks like a paperclip. This will copy the file link.\n",
        "#@markdown 5. Paste this link in the space below and run this cell to upload the file from Galaxy.\n",
        "\n",
        "\n",
        "#@markdown - Specify the name of the link from Galaxy to the RepeatMasker alignment file (_e.g._ `https://usegalaxy.eu/api/datasets/26c75dcccb616ac84ceecc507717204f/display?to_ext=txt`).\n",
        "galaxy_link=\"https://usegalaxy.eu/api/datasets/26c75dcccb616ac84ceecc507717204f/display?to_ext=txt\" #@param {type:\"string\"}\n",
        "#@markdown The RepeatMasker alignment file will be saved as `repeatmasker.align` in the `/content` directory here.\n",
        "\n",
        "!wget -O repeatmasker.align $galaxy_link\n",
        "#!mv display?to_ext=txt repeatmasker.align"
      ],
      "metadata": {
        "id": "zg0ak_ZyFJSi",
        "cellView": "form"
      },
      "execution_count": null,
      "outputs": []
    },
    {
      "cell_type": "code",
      "source": [
        "#@markdown ### 7.3) Run **RepeatMasker** scripts to generate input files for assessing repeat landscape of your genome\n",
        "#@markdown This will generate a table summarizing the RepeatMasker output, from which you can select a TE family of interest to proceed with for curation. For instance, you may be interested in the most abundant TE families in this organism's genome. To do this, you would sort the table by `Total Basepairs in Genome`, which will rank TE families by their abundance.\n",
        "\n",
        "#@markdown NOTE: This step may take ~30 minutes to run.\n",
        "\n",
        "\n",
        "#@markdown - Edit this to specify the name of the genome fasta file (_e.g._ `dmel.fasta`).\n",
        "genome=\"dmel.fasta\" #@param {type:\"string\"}\n",
        "genome_out=genome+\".2bit\"\n",
        "#@markdown - Edit this to specify a name for the output `*.divsum` file that this step will create (_e.g._ `dMel.divsum`).\n",
        "divsum_file=\"dMel.divsum\" #@param {type:\"string\"}\n",
        "#@markdown - Edit this to specify a name for the output `*.html` file that this step will create (_e.g._ `dMel.html`).\n",
        "html_file=\"dMel.html\" #@param {type:\"string\"}\n",
        "\n",
        "!cd /content && ln -s /usr/local/share/RepeatMasker/*.pm .\n",
        "!wget https://raw.githubusercontent.com/rmhubley/RepeatMasker/master/util/calcDivergenceFromAlign.pl\n",
        "!chmod a+x calcDivergenceFromAlign.pl\n",
        "!wget https://raw.githubusercontent.com/rmhubley/RepeatMasker/master/util/createRepeatLandscape.pl\n",
        "!chmod a+x createRepeatLandscape.pl\n",
        "!perl calcDivergenceFromAlign.pl -s $divsum_file repeatmasker.align\n",
        "!faToTwoBit $genome $genome_out\n",
        "!perl createRepeatLandscape.pl -div $divsum_file -twoBit $genome_out > $html_file\n",
        "!rm *.pm *.pl"
      ],
      "metadata": {
        "id": "uAkGIJv-Bi0r",
        "cellView": "form"
      },
      "execution_count": null,
      "outputs": []
    },
    {
      "cell_type": "code",
      "source": [
        "#@title 7.3 cont'd) Create repeat landscape plot\n",
        "#@markdown This will generate a graph summarizing the repeat landscape from your organism's genome.\n",
        "\n",
        "#@markdown - Edit this to specify the filename for the `*.html` file that was output above (_e.g._ `dMel.html`).\n",
        "html_file = \"dMel.html\" #@param {type:\"string\"}\n",
        "\n",
        "import IPython\n",
        "from IPython.display import display, Javascript\n",
        "from IPython.core.display import display, HTML\n",
        "\n",
        "display(HTML(html_file))"
      ],
      "metadata": {
        "id": "MIdrWwNIeoOv",
        "cellView": "form"
      },
      "execution_count": null,
      "outputs": []
    },
    {
      "cell_type": "code",
      "execution_count": null,
      "metadata": {
        "id": "LFA8xxJ02wHq",
        "cellView": "form"
      },
      "outputs": [],
      "source": [
        "#@title 7.4) Generate table summarizing **RepeatMasker** output\n",
        "#@markdown This will generate a table summarizing the RepeatMasker output, from which you can select a TE family of interest for manual curation. For instance, you may be interested in the most abundant TE families in your organism's genome. To do this, you would sort the table by `Total Basepairs in Genome`, which will rank TE families by their abundance.\n",
        "\n",
        "#@markdown - Specify the name of the `*.divsum` file output from the step above (_e.g._ `dMel.divsum`).\n",
        "divsum_file=\"dMel.divsum\" #@param {type:\"string\"}\n",
        "#@markdown - The `index` column is the name of the TE (needed for `Step 2.1` in the curation notebook).\n",
        "\n",
        "#@markdown - Each of the other columns can be sorted by clicking on the header.\n",
        "\n",
        "#@markdown - The table rows can be filtered by clicking on the filter button.\n",
        "\n",
        "from google.colab import data_table\n",
        "data_table.enable_dataframe_formatter()\n",
        "import pandas as pd\n",
        "data={}\n",
        "\n",
        "divsum=divsum_file\n",
        "fh=open(divsum)\n",
        "for i in range(6):\n",
        "  fh.readline()\n",
        "for line in fh:\n",
        "  info=line.split()\n",
        "  if len(info)<5:\n",
        "    break\n",
        "  if info[0] == \"Simple_repeat\":\n",
        "    continue\n",
        "  data[info[1]]={\"TE Class\":info[0],\"Total Basepairs in Genome\":int(info[3]),\"Kimura Divergence (%)\":float(info[4])}\n",
        "fh.close()\n",
        "\n",
        "df = pd.DataFrame(data=data).T\n",
        "df"
      ]
    },
    {
      "cell_type": "code",
      "source": [
        "#@title 7.4 cont'd) **Proceed to TE curation**\n",
        "#@markdown - Once you have selected your TE family of interest, you can proceed to **Step 2.1** in this pipeline (the seqID used in Step 2.1 is in the column labeled `Index` in the summary table above).\n",
        "\n",
        "#@markdown - If you have already run the earlier steps in this Appendix and have a `repeatmasker.align` file in your `/content` folder, you can skip **Step 2.2**. Instead, run the cell below (**Step 7.5**) to generate a seed alignment file (`.stk`) for your TE family of interest. This `.stk` file can then be used as input for **Step 2.3**."
      ],
      "metadata": {
        "cellView": "form",
        "id": "6iKCauDy6Y7g"
      },
      "execution_count": null,
      "outputs": []
    },
    {
      "cell_type": "code",
      "execution_count": null,
      "metadata": {
        "id": "bcZB_kk_gQ64",
        "cellView": "form"
      },
      "outputs": [],
      "source": [
        "#@title 7.5) Extract seed alignment from _**RepeatMasker**_ full TE library output (**fastest strategy for large-scale curation efforts**)\n",
        "\n",
        "#@markdown The most efficient approach for large-scale curation projects is to run _RepeatMasker_ on Galaxy using the full set of TE consensi generated by _RepeatModeler2_, as outlined in the previous steps of this Appendix. This step will generate the initial seed alignment for your TE family of interest, allowing you to skip **Step 2.2**.\n",
        "\n",
        "#@markdown This will output a new `.align` file which can be used below.\n",
        "\n",
        "#@markdown - Edit this to specify the name of the TE family to extract from the _RepeatMasker_ alignment file (_e.g._ `rnd-3_family-103#LTR/Copia`).\n",
        "#@markdown - Note that, in this case, you will need to combine the TE ID (e.g. `rnd-X_family-Y`) with the classification information (e.g. `LTR/Copia` ), separated by a pound sign.\n",
        "TE_family=\"rnd-3_family-103#LTR/Copia\" #@param {type:\"string\"}\n",
        "filtered_align_file=TE_family.split('#')[0] + '.align'\n",
        "\n",
        "fh=open(\"repeatmasker.align\")\n",
        "inrec=0\n",
        "record=\"\"\n",
        "\n",
        "for line in fh:\n",
        "    lineList=line.split(\" \")\n",
        "    lineLen = len(lineList)\n",
        "    if lineLen == 14 and lineList[8] == TE_family:\n",
        "        inrec=1\n",
        "    if lineLen == 15 and lineList[9] == TE_family:\n",
        "        inrec=1\n",
        "    if inrec==1:\n",
        "        record+=line\n",
        "    if inrec==1 and lineList[0]==\"Gap_init\":\n",
        "        record+=\"\\n\"\n",
        "        inrec=0\n",
        "fh.close()\n",
        "\n",
        "name,fam = TE_family.split(\"#\")\n",
        "out=open(name + \".align\",\"w\")\n",
        "out.write(record)\n",
        "out.close()\n",
        "\n"
      ]
    },
    {
      "cell_type": "code",
      "source": [
        "%%bash\n",
        "#@title 7.5 cont'd) Generate `.stk` file\n",
        "#@markdown This will output a new seed alignment file (`.stk` file), which can be used as input for **Step 2.3**.\n",
        "#@markdown - Edit this to specify the name of the genome fasta file (_e.g._ `dmel.fasta`).\n",
        "genome=\"dmel.fasta\" #@param {type:\"string\"}\n",
        "genome_out=$genome\".2bit\"\n",
        "#@markdown - Edit this to specify the species name (_e.g._ `Drosophila melanogaster`).\n",
        "taxon=\"Drosophila melanogaster\" #@param {type:\"string\"}\n",
        "\n",
        "faToTwoBit $genome $genome_out\n",
        "filtered_align=`ls -t *.align | head -1`\n",
        "mkdir stks && cd stks\n",
        "taxon=${taxon// /_}\n",
        "generateSeedAlignments.pl -taxon $taxon -assemblyFile ../$genome_out ../$filtered_align >generateSeedAlignments.log 2>&1\n",
        "filename=`ls -t *stk | head -1`\n",
        "rename=$taxon\"_\"$filename\n",
        "mv $filename $rename\n",
        "cp $rename /content && cd /content\n",
        "rm -r /content/stks\n",
        "echo \"Seed alignment written in Stockholm format to: $rename\"\n",
        "cp $rename /content/drive/MyDrive/TE_curation_files/stks/.\n",
        "echo \"Backup copy of the same file is saved in Google Drive in your /MyDrive/TE_curation_files/stks/ folder\"\n"
      ],
      "metadata": {
        "cellView": "form",
        "id": "tAOFPeTV6cvX"
      },
      "execution_count": null,
      "outputs": []
    },
    {
      "cell_type": "code",
      "execution_count": null,
      "metadata": {
        "cellView": "form",
        "id": "BukMMjIyup7T"
      },
      "outputs": [],
      "source": [
        "%%bash\n",
        "#@title 7.6) **Alternative to Step 2.2** - Run **RepeatMasker** on Galaxy using single TE consensus and extract seed alignment from output\n",
        "#@markdown If you're having issues getting **Step 2.2** to complete in this notebook due to a large genome size, an alternative strategy is to run RepeatMasker on Galaxy using a filtered repeat library consisting of a single TE family. To do this:\n",
        "\n",
        "#@markdown 1. Generate a TE library containing just your family of interest using **Step 2.1** in this notebook. Save this file and upload it to Galaxy along with your genome file.\n",
        "#@markdown 2. Run RepeatMasker on Galaxy following the instructions in **Step 7.2**.\n",
        "#@markdown 3. Upload the RepeatMasker alignment file from Galaxy to this notebook using **Step 7.2**.\n",
        "#@markdown 4. Now, edit the details below and run this cell.\n",
        "\n",
        "#@markdown - Edit this to specify the name of the genome fasta file (_e.g._ `dmel.fasta`).\n",
        "genome=\"dmel.fasta\" #@param {type:\"string\"}\n",
        "genome_out=genome\".2bit\"\n",
        "#@markdown - Edit this to specify the species name (_e.g._ _Drosophila melanogaster_).\n",
        "taxon=\"Drosophila melanogaster\" #@param {type:\"string\"}\n",
        "\n",
        "#@markdown Running this cell will output a new seed alignment file (`*.stk`). This file will also be saved to your Google Drive.\n",
        "#@markdown\n",
        "#@markdown Once finished, you can now proceed to **Step 2.3**, using this seed alignment file (`*.stk`), and proceed with curating this TE family.\n",
        "\n",
        "faToTwoBit $genome $genome_out\n",
        "mkdir stks && cd stks\n",
        "taxon=${taxon// /_}\n",
        "generateSeedAlignments.pl -taxon $taxon -assemblyFile ../$genome_out ../repeatmasker.align >generateSeedAlignments.log 2>&1\n",
        "filename=`ls -t *stk | head -1`\n",
        "rename=$taxon\"_\"$filename\n",
        "mv $filename $rename\n",
        "cp $rename /content && cd /content\n",
        "rm -r /content/stks\n",
        "echo \"Seed alignment written in Stockholm format to: $rename\"\n",
        "cp $rename /content/drive/MyDrive/TE_curation_files/stks/.\n",
        "echo \"Backup copy of the same file is saved in Google Drive in your /MyDrive/TE_curation_files/stks/ folder\"\n"
      ]
    }
  ],
  "metadata": {
    "colab": {
      "provenance": []
    },
    "kernelspec": {
      "display_name": "Python 3",
      "name": "python3"
    },
    "language_info": {
      "name": "python"
    }
  },
  "nbformat": 4,
  "nbformat_minor": 0
}